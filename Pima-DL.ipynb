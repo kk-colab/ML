{
  "nbformat": 4,
  "nbformat_minor": 0,
  "metadata": {
    "colab": {
      "name": "Copy of Welcome To Colaboratory",
      "provenance": [],
      "collapsed_sections": [],
      "include_colab_link": true
    },
    "kernelspec": {
      "display_name": "Python 3",
      "name": "python3"
    }
  },
  "cells": [
    {
      "cell_type": "markdown",
      "metadata": {
        "id": "view-in-github",
        "colab_type": "text"
      },
      "source": [
        "<a href=\"https://colab.research.google.com/github/kk-colab/ML/blob/master/Pima-DL.ipynb\" target=\"_parent\"><img src=\"https://colab.research.google.com/assets/colab-badge.svg\" alt=\"Open In Colab\"/></a>"
      ]
    },
    {
      "cell_type": "markdown",
      "metadata": {
        "colab_type": "text",
        "id": "5fCEDCU_qrC0"
      },
      "source": [
        "<p><img alt=\"Colaboratory logo\" height=\"45px\" src=\"/img/colab_favicon.ico\" align=\"left\" hspace=\"10px\" vspace=\"0px\"></p>\n",
        "\n",
        "<h1>What is Colaboratory?</h1>\n",
        "\n",
        "Colaboratory, or \"Colab\" for short, allows you to write and execute Python in your browser, with \n",
        "- Zero configuration required\n",
        "- Free access to GPUs\n",
        "- Easy sharing\n",
        "\n",
        "Whether you're a **student**, a **data scientist** or an **AI researcher**, Colab can make your work easier. Watch [Introduction to Colab](https://www.youtube.com/watch?v=inN8seMm7UI) to learn more, or just get started below!"
      ]
    },
    {
      "cell_type": "markdown",
      "metadata": {
        "colab_type": "text",
        "id": "GJBs_flRovLc"
      },
      "source": [
        "## **Getting started**\n",
        "\n",
        "The document you are reading is not a static web page, but an interactive environment called a **Colab notebook** that lets you write and execute code.\n",
        "\n",
        "For example, here is a **code cell** with a short Python script that computes a value, stores it in a variable, and prints the result:"
      ]
    },
    {
      "cell_type": "markdown",
      "metadata": {
        "colab_type": "text",
        "id": "UdRyKR44dcNI"
      },
      "source": [
        "## Data science\n",
        "\n",
        "With Colab you can harness the full power of popular Python libraries to analyze and visualize data. The code cell below uses **numpy** to generate some random data, and uses **matplotlib** to visualize it. To edit the code, just click the cell and start editing."
      ]
    },
    {
      "cell_type": "code",
      "metadata": {
        "colab_type": "code",
        "id": "C4HZx7Gndbrh",
        "outputId": "46abc637-6abd-41b2-9bba-80a7ae992e06",
        "colab": {
          "base_uri": "https://localhost:8080/",
          "height": 281
        }
      },
      "source": [
        "import numpy as np\n",
        "from matplotlib import pyplot as plt\n",
        "\n",
        "ys = 200 + np.random.randn(100)\n",
        "x = [x for x in range(len(ys))]\n",
        "\n",
        "plt.plot(x, ys, '-')\n",
        "plt.fill_between(x, ys, 195, where=(ys > 195), facecolor='g', alpha=0.6)\n",
        "\n",
        "plt.title(\"Sample Visualization\")\n",
        "plt.show()"
      ],
      "execution_count": 0,
      "outputs": [
        {
          "output_type": "display_data",
          "data": {
            "image/png": "[encoded data removed]",
            "text/plain": [
              "<Figure size 432x288 with 1 Axes>"
            ]
          },
          "metadata": {
            "tags": []
          }
        }
      ]
    },
    {
      "cell_type": "markdown",
      "metadata": {
        "colab_type": "text",
        "id": "4_kCnsPUqS6o"
      },
      "source": [
        "You can import your own data into Colab notebooks from your Google Drive account, including from spreadsheets, as well as from Github and many other sources. To learn more about importing data, and how Colab can be used for data science, see the links below under [Working with Data](#working-with-data)."
      ]
    },
    {
      "cell_type": "markdown",
      "metadata": {
        "colab_type": "text",
        "id": "OwuxHmxllTwN"
      },
      "source": [
        "## Machine learning\n",
        "\n",
        "With Colab you can import an image dataset, train an image classifier on it, and evaluate the model, all in just [a few lines of code](https://colab.research.google.com/github/tensorflow/docs/blob/master/site/en/tutorials/quickstart/beginner.ipynb). Colab notebooks execute code on Google's cloud servers, meaning you can leverage the power of Google hardware, including [GPUs and TPUs](#using-accelerated-hardware), regardless of the power of your machine. All you need is a browser."
      ]
    },
    {
      "cell_type": "markdown",
      "metadata": {
        "colab_type": "text",
        "id": "ufxBm1yRnruN"
      },
      "source": [
        "Colab is used extensively in the machine learning community with applications including:\n",
        "- Getting started with TensorFlow\n",
        "- Developing and training neural networks\n",
        "- Experimenting with TPUs\n",
        "- Disseminating AI research\n",
        "- Creating tutorials\n",
        "\n",
        "To see sample Colab notebooks that demonstrate machine learning applications, see the [machine learning examples](#machine-learning-examples) below."
      ]
    },
    {
      "cell_type": "markdown",
      "metadata": {
        "colab_type": "text",
        "id": "-Rh3-Vt9Nev9"
      },
      "source": [
        "## More Resources\n",
        "\n",
        "### Working with Notebooks in Colab\n",
        "- [Overview of Colaboratory](/notebooks/basic_features_overview.ipynb)\n",
        "- [Guide to Markdown](/notebooks/markdown_guide.ipynb)\n",
        "- [Importing libraries and installing dependencies](/notebooks/snippets/importing_libraries.ipynb)\n",
        "- [Saving and loading notebooks in GitHub](https://colab.research.google.com/github/googlecolab/colabtools/blob/master/notebooks/colab-github-demo.ipynb)\n",
        "- [Interactive forms](/notebooks/forms.ipynb)\n",
        "- [Interactive widgets](/notebooks/widgets.ipynb)\n",
        "- <img src=\"/img/new.png\" height=\"20px\" align=\"left\" hspace=\"4px\" alt=\"New\"></img>\n",
        " [TensorFlow 2 in Colab](/notebooks/tensorflow_version.ipynb)\n",
        "\n",
        "<a name=\"working-with-data\"></a>\n",
        "### Working with Data\n",
        "- [Loading data: Drive, Sheets, and Google Cloud Storage](/notebooks/io.ipynb) \n",
        "- [Charts: visualizing data](/notebooks/charts.ipynb)\n",
        "- [Getting started with BigQuery](/notebooks/bigquery.ipynb)\n",
        "\n",
        "### Machine Learning Crash Course\n",
        "These are a few of the notebooks from Google's online Machine Learning course. See the [full course website](https://developers.google.com/machine-learning/crash-course/) for more.\n",
        "- [Intro to Pandas](/notebooks/mlcc/intro_to_pandas.ipynb)\n",
        "- [Tensorflow concepts](/notebooks/mlcc/tensorflow_programming_concepts.ipynb)\n",
        "- [First steps with TensorFlow](/notebooks/mlcc/first_steps_with_tensor_flow.ipynb)\n",
        "- [Intro to neural nets](/notebooks/mlcc/intro_to_neural_nets.ipynb)\n",
        "- [Intro to sparse data and embeddings](/notebooks/mlcc/intro_to_sparse_data_and_embeddings.ipynb)\n",
        "\n",
        "<a name=\"using-accelerated-hardware\"></a>\n",
        "### Using Accelerated Hardware\n",
        "- [TensorFlow with GPUs](/notebooks/gpu.ipynb)\n",
        "- [TensorFlow with TPUs](/notebooks/tpu.ipynb)"
      ]
    },
    {
      "cell_type": "markdown",
      "metadata": {
        "colab_type": "text",
        "id": "P-H6Lw1vyNNd"
      },
      "source": [
        "<a name=\"machine-learning-examples\"></a>\n",
        "\n",
        "## Machine Learning Examples\n",
        "\n",
        "To see end-to-end examples of the interactive machine learning analyses that Colaboratory makes possible, check out the [AI Hub](https://aihub.cloud.google.com/) project.\n",
        "\n",
        "A few featured examples:\n",
        "\n",
        "- [Neural Style Transfer](https://aihub.cloud.google.com/p/products%2F7f7495dd-6f66-4f8a-8c30-15f211ad6957): Use deep learning to transfer style between images.\n",
        "- [EZ NSynth](https://aihub.cloud.google.com/p/products%2Fcddd17cf-5f86-4ce7-b6b6-03c5e52ee0fb): Synthesize audio with WaveNet auto-encoders.\n",
        "- [Fashion MNIST with Keras and TPUs](https://aihub.cloud.google.com/p/products%2F7a0acf15-0be0-41a6-9bdb-5a5abd4e8fbf): Classify fashion-related images with deep learning.\n",
        "- [DeepDream](https://aihub.cloud.google.com/p/products%2Ff9e8fc11-ad0f-410a-bebe-2482066ce570): Produce DeepDream images from your own photos.\n",
        "- [Convolutional VAE](https://aihub.cloud.google.com/p/products%2Ff5e8dd20-6b34-44a0-bc45-6e345e36a4e7): Create a generative model of handwritten digits."
      ]
    },
    {
      "cell_type": "markdown",
      "metadata": {
        "id": "n3iJPM1yrbYw",
        "colab_type": "text"
      },
      "source": [
        ""
      ]
    },
    {
      "cell_type": "code",
      "metadata": {
        "id": "GyTXcodv_-Po",
        "colab_type": "code",
        "outputId": "ddb59440-9927-4a7b-d14e-b4f85734ed40",
        "colab": {
          "base_uri": "https://localhost:8080/",
          "height": 35
        }
      },
      "source": [
        "!git clone https://github.com/kk-colab/ML.git\n"
      ],
      "execution_count": 0,
      "outputs": [
        {
          "output_type": "stream",
          "text": [
            "fatal: destination path 'ML' already exists and is not an empty directory.\n"
          ],
          "name": "stdout"
        }
      ]
    },
    {
      "cell_type": "code",
      "metadata": {
        "id": "6M1THEBEAfK5",
        "colab_type": "code",
        "outputId": "f4fcaee0-448a-48a0-e646-7b8be1998291",
        "colab": {
          "base_uri": "https://localhost:8080/",
          "height": 35
        }
      },
      "source": [
        "!ls"
      ],
      "execution_count": 0,
      "outputs": [
        {
          "output_type": "stream",
          "text": [
            "sample_data\n"
          ],
          "name": "stdout"
        }
      ]
    },
    {
      "cell_type": "markdown",
      "metadata": {
        "id": "3uFiR8rkrUcl",
        "colab_type": "text"
      },
      "source": [
        "**IMPORTING PACKAGES**"
      ]
    },
    {
      "cell_type": "code",
      "metadata": {
        "id": "JarIdjOOsrqO",
        "colab_type": "code",
        "outputId": "f270610f-c0a9-48cc-beb2-8cf7dd141eb3",
        "colab": {
          "base_uri": "https://localhost:8080/",
          "height": 35
        }
      },
      "source": [
        "from keras.models import Sequential\n",
        "from keras.layers import Dense\n",
        "import numpy as np"
      ],
      "execution_count": 4,
      "outputs": [
        {
          "output_type": "stream",
          "text": [
            "Using TensorFlow backend.\n"
          ],
          "name": "stderr"
        }
      ]
    },
    {
      "cell_type": "markdown",
      "metadata": {
        "id": "eLTTrFbQtBSg",
        "colab_type": "text"
      },
      "source": [
        "SEED VALUES TO FIX THE COLUMNS USED IN **DATASET**"
      ]
    },
    {
      "cell_type": "code",
      "metadata": {
        "id": "H-k0a9AhtUn2",
        "colab_type": "code",
        "colab": {}
      },
      "source": [
        "seed = 7\n",
        "np.random.seed(seed)"
      ],
      "execution_count": 0,
      "outputs": []
    },
    {
      "cell_type": "markdown",
      "metadata": {
        "id": "9kRMPxHKtkZQ",
        "colab_type": "text"
      },
      "source": [
        "**LOADING THE DATASET** (Here, PIMA Diabetics Dataset)"
      ]
    },
    {
      "cell_type": "code",
      "metadata": {
        "id": "iM68fH1K6E2E",
        "colab_type": "code",
        "outputId": "1dd20994-059a-467b-d1b3-a0c03996f940",
        "colab": {
          "resources": {
            "http://localhost:8080/nbextensions/google.colab/files.js": {
              "data": "Ly8gQ29weXJpZ2h0IDIwMTcgR29vZ2xlIExMQwovLwovLyBMaWNlbnNlZCB1bmRlciB0aGUgQXBhY2hlIExpY2Vuc2UsIFZlcnNpb24gMi4wICh0aGUgIkxpY2Vuc2UiKTsKLy8geW91IG1heSBub3QgdXNlIHRoaXMgZmlsZSBleGNlcHQgaW4gY29tcGxpYW5jZSB3aXRoIHRoZSBMaWNlbnNlLgovLyBZb3UgbWF5IG9idGFpbiBhIGNvcHkgb2YgdGhlIExpY2Vuc2UgYXQKLy8KLy8gICAgICBodHRwOi8vd3d3LmFwYWNoZS5vcmcvbGljZW5zZXMvTElDRU5TRS0yLjAKLy8KLy8gVW5sZXNzIHJlcXVpcmVkIGJ5IGFwcGxpY2FibGUgbGF3IG9yIGFncmVlZCB0byBpbiB3cml0aW5nLCBzb2Z0d2FyZQovLyBkaXN0cmlidXRlZCB1bmRlciB0aGUgTGljZW5zZSBpcyBkaXN0cmlidXRlZCBvbiBhbiAiQVMgSVMiIEJBU0lTLAovLyBXSVRIT1VUIFdBUlJBTlRJRVMgT1IgQ09ORElUSU9OUyBPRiBBTlkgS0lORCwgZWl0aGVyIGV4cHJlc3Mgb3IgaW1wbGllZC4KLy8gU2VlIHRoZSBMaWNlbnNlIGZvciB0aGUgc3BlY2lmaWMgbGFuZ3VhZ2UgZ292ZXJuaW5nIHBlcm1pc3Npb25zIGFuZAovLyBsaW1pdGF0aW9ucyB1bmRlciB0aGUgTGljZW5zZS4KCi8qKgogKiBAZmlsZW92ZXJ2aWV3IEhlbHBlcnMgZm9yIGdvb2dsZS5jb2xhYiBQeXRob24gbW9kdWxlLgogKi8KKGZ1bmN0aW9uKHNjb3BlKSB7CmZ1bmN0aW9uIHNwYW4odGV4dCwgc3R5bGVBdHRyaWJ1dGVzID0ge30pIHsKICBjb25zdCBlbGVtZW50ID0gZG9jdW1lbnQuY3JlYXRlRWxlbWVudCgnc3BhbicpOwogIGVsZW1lbnQudGV4dENvbnRlbnQgPSB0ZXh0OwogIGZvciAoY29uc3Qga2V5IG9mIE9iamVjdC5rZXlzKHN0eWxlQXR0cmlidXRlcykpIHsKICAgIGVsZW1lbnQuc3R5bGVba2V5XSA9IHN0eWxlQXR0cmlidXRlc1trZXldOwogIH0KICByZXR1cm4gZWxlbWVudDsKfQoKLy8gTWF4IG51bWJlciBvZiBieXRlcyB3aGljaCB3aWxsIGJlIHVwbG9hZGVkIGF0IGEgdGltZS4KY29uc3QgTUFYX1BBWUxPQURfU0laRSA9IDEwMCAqIDEwMjQ7Ci8vIE1heCBhbW91bnQgb2YgdGltZSB0byBibG9jayB3YWl0aW5nIGZvciB0aGUgdXNlci4KY29uc3QgRklMRV9DSEFOR0VfVElNRU9VVF9NUyA9IDMwICogMTAwMDsKCmZ1bmN0aW9uIF91cGxvYWRGaWxlcyhpbnB1dElkLCBvdXRwdXRJZCkgewogIGNvbnN0IHN0ZXBzID0gdXBsb2FkRmlsZXNTdGVwKGlucHV0SWQsIG91dHB1dElkKTsKICBjb25zdCBvdXRwdXRFbGVtZW50ID0gZG9jdW1lbnQuZ2V0RWxlbWVudEJ5SWQob3V0cHV0SWQpOwogIC8vIENhY2hlIHN0ZXBzIG9uIHRoZSBvdXRwdXRFbGVtZW50IHRvIG1ha2UgaXQgYXZhaWxhYmxlIGZvciB0aGUgbmV4dCBjYWxsCiAgLy8gdG8gdXBsb2FkRmlsZXNDb250aW51ZSBmcm9tIFB5dGhvbi4KICBvdXRwdXRFbGVtZW50LnN0ZXBzID0gc3RlcHM7CgogIHJldHVybiBfdXBsb2FkRmlsZXNDb250aW51ZShvdXRwdXRJZCk7Cn0KCi8vIFRoaXMgaXMgcm91Z2hseSBhbiBhc3luYyBnZW5lcmF0b3IgKG5vdCBzdXBwb3J0ZWQgaW4gdGhlIGJyb3dzZXIgeWV0KSwKLy8gd2hlcmUgdGhlcmUgYXJlIG11bHRpcGxlIGFzeW5jaHJvbm91cyBzdGVwcyBhbmQgdGhlIFB5dGhvbiBzaWRlIGlzIGdvaW5nCi8vIHRvIHBvbGwgZm9yIGNvbXBsZXRpb24gb2YgZWFjaCBzdGVwLgovLyBUaGlzIHVzZXMgYSBQcm9taXNlIHRvIGJsb2NrIHRoZSBweXRob24gc2lkZSBvbiBjb21wbGV0aW9uIG9mIGVhY2ggc3RlcCwKLy8gdGhlbiBwYXNzZXMgdGhlIHJlc3VsdCBvZiB0aGUgcHJldmlvdXMgc3RlcCBhcyB0aGUgaW5wdXQgdG8gdGhlIG5leHQgc3RlcC4KZnVuY3Rpb24gX3VwbG9hZEZpbGVzQ29udGludWUob3V0cHV0SWQpIHsKICBjb25zdCBvdXRwdXRFbGVtZW50ID0gZG9jdW1lbnQuZ2V0RWxlbWVudEJ5SWQob3V0cHV0SWQpOwogIGNvbnN0IHN0ZXBzID0gb3V0cHV0RWxlbWVudC5zdGVwczsKCiAgY29uc3QgbmV4dCA9IHN0ZXBzLm5leHQob3V0cHV0RWxlbWVudC5sYXN0UHJvbWlzZVZhbHVlKTsKICByZXR1cm4gUHJvbWlzZS5yZXNvbHZlKG5leHQudmFsdWUucHJvbWlzZSkudGhlbigodmFsdWUpID0+IHsKICAgIC8vIENhY2hlIHRoZSBsYXN0IHByb21pc2UgdmFsdWUgdG8gbWFrZSBpdCBhdmFpbGFibGUgdG8gdGhlIG5leHQKICAgIC8vIHN0ZXAgb2YgdGhlIGdlbmVyYXRvci4KICAgIG91dHB1dEVsZW1lbnQubGFzdFByb21pc2VWYWx1ZSA9IHZhbHVlOwogICAgcmV0dXJuIG5leHQudmFsdWUucmVzcG9uc2U7CiAgfSk7Cn0KCi8qKgogKiBHZW5lcmF0b3IgZnVuY3Rpb24gd2hpY2ggaXMgY2FsbGVkIGJldHdlZW4gZWFjaCBhc3luYyBzdGVwIG9mIHRoZSB1cGxvYWQKICogcHJvY2Vzcy4KICogQHBhcmFtIHtzdHJpbmd9IGlucHV0SWQgRWxlbWVudCBJRCBvZiB0aGUgaW5wdXQgZmlsZSBwaWNrZXIgZWxlbWVudC4KICogQHBhcmFtIHtzdHJpbmd9IG91dHB1dElkIEVsZW1lbnQgSUQgb2YgdGhlIG91dHB1dCBkaXNwbGF5LgogKiBAcmV0dXJuIHshSXRlcmFibGU8IU9iamVjdD59IEl0ZXJhYmxlIG9mIG5leHQgc3RlcHMuCiAqLwpmdW5jdGlvbiogdXBsb2FkRmlsZXNTdGVwKGlucHV0SWQsIG91dHB1dElkKSB7CiAgY29uc3QgaW5wdXRFbGVtZW50ID0gZG9jdW1lbnQuZ2V0RWxlbWVudEJ5SWQoaW5wdXRJZCk7CiAgaW5wdXRFbGVtZW50LmRpc2FibGVkID0gZmFsc2U7CgogIGNvbnN0IG91dHB1dEVsZW1lbnQgPSBkb2N1bWVudC5nZXRFbGVtZW50QnlJZChvdXRwdXRJZCk7CiAgb3V0cHV0RWxlbWVudC5pbm5lckhUTUwgPSAnJzsKCiAgY29uc3QgcGlja2VkUHJvbWlzZSA9IG5ldyBQcm9taXNlKChyZXNvbHZlKSA9PiB7CiAgICBpbnB1dEVsZW1lbnQuYWRkRXZlbnRMaXN0ZW5lcignY2hhbmdlJywgKGUpID0+IHsKICAgICAgcmVzb2x2ZShlLnRhcmdldC5maWxlcyk7CiAgICB9KTsKICB9KTsKCiAgY29uc3QgY2FuY2VsID0gZG9jdW1lbnQuY3JlYXRlRWxlbWVudCgnYnV0dG9uJyk7CiAgaW5wdXRFbGVtZW50LnBhcmVudEVsZW1lbnQuYXBwZW5kQ2hpbGQoY2FuY2VsKTsKICBjYW5jZWwudGV4dENvbnRlbnQgPSAnQ2FuY2VsIHVwbG9hZCc7CiAgY29uc3QgY2FuY2VsUHJvbWlzZSA9IG5ldyBQcm9taXNlKChyZXNvbHZlKSA9PiB7CiAgICBjYW5jZWwub25jbGljayA9ICgpID0+IHsKICAgICAgcmVzb2x2ZShudWxsKTsKICAgIH07CiAgfSk7CgogIC8vIENhbmNlbCB1cGxvYWQgaWYgdXNlciBoYXNuJ3QgcGlja2VkIGFueXRoaW5nIGluIHRpbWVvdXQuCiAgY29uc3QgdGltZW91dFByb21pc2UgPSBuZXcgUHJvbWlzZSgocmVzb2x2ZSkgPT4gewogICAgc2V0VGltZW91dCgoKSA9PiB7CiAgICAgIHJlc29sdmUobnVsbCk7CiAgICB9LCBGSUxFX0NIQU5HRV9USU1FT1VUX01TKTsKICB9KTsKCiAgLy8gV2FpdCBmb3IgdGhlIHVzZXIgdG8gcGljayB0aGUgZmlsZXMuCiAgY29uc3QgZmlsZXMgPSB5aWVsZCB7CiAgICBwcm9taXNlOiBQcm9taXNlLnJhY2UoW3BpY2tlZFByb21pc2UsIHRpbWVvdXRQcm9taXNlLCBjYW5jZWxQcm9taXNlXSksCiAgICByZXNwb25zZTogewogICAgICBhY3Rpb246ICdzdGFydGluZycsCiAgICB9CiAgfTsKCiAgaWYgKCFmaWxlcykgewogICAgcmV0dXJuIHsKICAgICAgcmVzcG9uc2U6IHsKICAgICAgICBhY3Rpb246ICdjb21wbGV0ZScsCiAgICAgIH0KICAgIH07CiAgfQoKICBjYW5jZWwucmVtb3ZlKCk7CgogIC8vIERpc2FibGUgdGhlIGlucHV0IGVsZW1lbnQgc2luY2UgZnVydGhlciBwaWNrcyBhcmUgbm90IGFsbG93ZWQuCiAgaW5wdXRFbGVtZW50LmRpc2FibGVkID0gdHJ1ZTsKCiAgZm9yIChjb25zdCBmaWxlIG9mIGZpbGVzKSB7CiAgICBjb25zdCBsaSA9IGRvY3VtZW50LmNyZWF0ZUVsZW1lbnQoJ2xpJyk7CiAgICBsaS5hcHBlbmQoc3BhbihmaWxlLm5hbWUsIHtmb250V2VpZ2h0OiAnYm9sZCd9KSk7CiAgICBsaS5hcHBlbmQoc3BhbigKICAgICAgICBgKCR7ZmlsZS50eXBlIHx8ICduL2EnfSkgLSAke2ZpbGUuc2l6ZX0gYnl0ZXMsIGAgKwogICAgICAgIGBsYXN0IG1vZGlmaWVkOiAkewogICAgICAgICAgICBmaWxlLmxhc3RNb2RpZmllZERhdGUgPyBmaWxlLmxhc3RNb2RpZmllZERhdGUudG9Mb2NhbGVEYXRlU3RyaW5nKCkgOgogICAgICAgICAgICAgICAgICAgICAgICAgICAgICAgICAgICAnbi9hJ30gLSBgKSk7CiAgICBjb25zdCBwZXJjZW50ID0gc3BhbignMCUgZG9uZScpOwogICAgbGkuYXBwZW5kQ2hpbGQocGVyY2VudCk7CgogICAgb3V0cHV0RWxlbWVudC5hcHBlbmRDaGlsZChsaSk7CgogICAgY29uc3QgZmlsZURhdGFQcm9taXNlID0gbmV3IFByb21pc2UoKHJlc29sdmUpID0+IHsKICAgICAgY29uc3QgcmVhZGVyID0gbmV3IEZpbGVSZWFkZXIoKTsKICAgICAgcmVhZGVyLm9ubG9hZCA9IChlKSA9PiB7CiAgICAgICAgcmVzb2x2ZShlLnRhcmdldC5yZXN1bHQpOwogICAgICB9OwogICAgICByZWFkZXIucmVhZEFzQXJyYXlCdWZmZXIoZmlsZSk7CiAgICB9KTsKICAgIC8vIFdhaXQgZm9yIHRoZSBkYXRhIHRvIGJlIHJlYWR5LgogICAgbGV0IGZpbGVEYXRhID0geWllbGQgewogICAgICBwcm9taXNlOiBmaWxlRGF0YVByb21pc2UsCiAgICAgIHJlc3BvbnNlOiB7CiAgICAgICAgYWN0aW9uOiAnY29udGludWUnLAogICAgICB9CiAgICB9OwoKICAgIC8vIFVzZSBhIGNodW5rZWQgc2VuZGluZyB0byBhdm9pZCBtZXNzYWdlIHNpemUgbGltaXRzLiBTZWUgYi82MjExNTY2MC4KICAgIGxldCBwb3NpdGlvbiA9IDA7CiAgICB3aGlsZSAocG9zaXRpb24gPCBmaWxlRGF0YS5ieXRlTGVuZ3RoKSB7CiAgICAgIGNvbnN0IGxlbmd0aCA9IE1hdGgubWluKGZpbGVEYXRhLmJ5dGVMZW5ndGggLSBwb3NpdGlvbiwgTUFYX1BBWUxPQURfU0laRSk7CiAgICAgIGNvbnN0IGNodW5rID0gbmV3IFVpbnQ4QXJyYXkoZmlsZURhdGEsIHBvc2l0aW9uLCBsZW5ndGgpOwogICAgICBwb3NpdGlvbiArPSBsZW5ndGg7CgogICAgICBjb25zdCBiYXNlNjQgPSBidG9hKFN0cmluZy5mcm9tQ2hhckNvZGUuYXBwbHkobnVsbCwgY2h1bmspKTsKICAgICAgeWllbGQgewogICAgICAgIHJlc3BvbnNlOiB7CiAgICAgICAgICBhY3Rpb246ICdhcHBlbmQnLAogICAgICAgICAgZmlsZTogZmlsZS5uYW1lLAogICAgICAgICAgZGF0YTogYmFzZTY0LAogICAgICAgIH0sCiAgICAgIH07CiAgICAgIHBlcmNlbnQudGV4dENvbnRlbnQgPQogICAgICAgICAgYCR7TWF0aC5yb3VuZCgocG9zaXRpb24gLyBmaWxlRGF0YS5ieXRlTGVuZ3RoKSAqIDEwMCl9JSBkb25lYDsKICAgIH0KICB9CgogIC8vIEFsbCBkb25lLgogIHlpZWxkIHsKICAgIHJlc3BvbnNlOiB7CiAgICAgIGFjdGlvbjogJ2NvbXBsZXRlJywKICAgIH0KICB9Owp9CgpzY29wZS5nb29nbGUgPSBzY29wZS5nb29nbGUgfHwge307CnNjb3BlLmdvb2dsZS5jb2xhYiA9IHNjb3BlLmdvb2dsZS5jb2xhYiB8fCB7fTsKc2NvcGUuZ29vZ2xlLmNvbGFiLl9maWxlcyA9IHsKICBfdXBsb2FkRmlsZXMsCiAgX3VwbG9hZEZpbGVzQ29udGludWUsCn07Cn0pKHNlbGYpOwo=",
              "ok": true,
              "headers": [
                [
                  "content-type",
                  "application/javascript"
                ]
              ],
              "status": 200,
              "status_text": "OK"
            }
          },
          "base_uri": "https://localhost:8080/",
          "height": 77
        }
      },
      "source": [
        "from google.colab import files\n",
        "ds = files.upload()\n"
      ],
      "execution_count": 11,
      "outputs": [
        {
          "output_type": "display_data",
          "data": {
            "text/html": [
              "\n",
              "     <input type=\"file\" id=\"files-bdc45f58-033b-48e3-b451-ef60257bdd5c\" name=\"files[]\" multiple disabled />\n",
              "     <output id=\"result-bdc45f58-033b-48e3-b451-ef60257bdd5c\">\n",
              "      Upload widget is only available when the cell has been executed in the\n",
              "      current browser session. Please rerun this cell to enable.\n",
              "      </output>\n",
              "      <script src=\"/nbextensions/google.colab/files.js\"></script> "
            ],
            "text/plain": [
              "<IPython.core.display.HTML object>"
            ]
          },
          "metadata": {
            "tags": []
          }
        },
        {
          "output_type": "stream",
          "text": [
            "Saving Diabetpims.csv to Diabetpims.csv\n"
          ],
          "name": "stdout"
        }
      ]
    },
    {
      "cell_type": "markdown",
      "metadata": {
        "id": "gBxCCIFq2JlD",
        "colab_type": "text"
      },
      "source": [
        "Loading the Training Data Set\n"
      ]
    },
    {
      "cell_type": "code",
      "metadata": {
        "id": "hS78UrFk_laJ",
        "colab_type": "code",
        "colab": {}
      },
      "source": [
        "dataset = np.loadtxt(\"Diabetpims.csv\", delimiter=\",\")\n",
        "# split into input (X) and output (Y) variables\n",
        "X = dataset[:,0:8]\n",
        "Y = dataset[:,8]"
      ],
      "execution_count": 0,
      "outputs": []
    },
    {
      "cell_type": "markdown",
      "metadata": {
        "id": "byCwNfZNBtaf",
        "colab_type": "text"
      },
      "source": [
        "Model of DL using NN"
      ]
    },
    {
      "cell_type": "code",
      "metadata": {
        "id": "AmxeV3YqByWW",
        "colab_type": "code",
        "colab": {
          "base_uri": "https://localhost:8080/",
          "height": 184
        },
        "outputId": "4c9c2b0e-a219-4a0f-bc84-48daf66f0b03"
      },
      "source": [
        "model=Sequential()\n",
        "model.add(Dense(32,input_dim=8,init='uniform',activation='relu'))\n",
        "model.add(Dense(16,init='uniform',activation='relu'))\n",
        "model.add(Dense(8,init='uniform',activation='relu'))\n",
        "model.add(Dense(1,init='uniform',activation='relu'))"
      ],
      "execution_count": 27,
      "outputs": [
        {
          "output_type": "stream",
          "text": [
            "/usr/local/lib/python3.6/dist-packages/ipykernel_launcher.py:2: UserWarning: Update your `Dense` call to the Keras 2 API: `Dense(32, input_dim=8, activation=\"relu\", kernel_initializer=\"uniform\")`\n",
            "  \n",
            "/usr/local/lib/python3.6/dist-packages/ipykernel_launcher.py:3: UserWarning: Update your `Dense` call to the Keras 2 API: `Dense(16, activation=\"relu\", kernel_initializer=\"uniform\")`\n",
            "  This is separate from the ipykernel package so we can avoid doing imports until\n",
            "/usr/local/lib/python3.6/dist-packages/ipykernel_launcher.py:4: UserWarning: Update your `Dense` call to the Keras 2 API: `Dense(8, activation=\"relu\", kernel_initializer=\"uniform\")`\n",
            "  after removing the cwd from sys.path.\n",
            "/usr/local/lib/python3.6/dist-packages/ipykernel_launcher.py:5: UserWarning: Update your `Dense` call to the Keras 2 API: `Dense(1, activation=\"relu\", kernel_initializer=\"uniform\")`\n",
            "  \"\"\"\n"
          ],
          "name": "stderr"
        }
      ]
    },
    {
      "cell_type": "markdown",
      "metadata": {
        "id": "MPXOeY6nnqnA",
        "colab_type": "text"
      },
      "source": [
        "Error reduction technique\n"
      ]
    },
    {
      "cell_type": "code",
      "metadata": {
        "id": "88B6VM6FnySR",
        "colab_type": "code",
        "colab": {}
      },
      "source": [
        "model.compile(loss='binary_crossentropy',optimizer='adam',metrics=['accuracy'])"
      ],
      "execution_count": 0,
      "outputs": []
    },
    {
      "cell_type": "markdown",
      "metadata": {
        "id": "qQwaEPU3oVdX",
        "colab_type": "text"
      },
      "source": [
        "MODEL FIT into the DS"
      ]
    },
    {
      "cell_type": "code",
      "metadata": {
        "id": "sPbNLpUFoZJD",
        "colab_type": "code",
        "colab": {
          "base_uri": "https://localhost:8080/",
          "height": 1000
        },
        "outputId": "e469bdad-7c6f-4b8e-e1d4-6eb3f754d3fb"
      },
      "source": [
        "model.fit(X,Y,nb_epoch=400,batch_size=10)"
      ],
      "execution_count": 29,
      "outputs": [
        {
          "output_type": "stream",
          "text": [
            "/usr/local/lib/python3.6/dist-packages/ipykernel_launcher.py:1: UserWarning: The `nb_epoch` argument in `fit` has been renamed `epochs`.\n",
            "  \"\"\"Entry point for launching an IPython kernel.\n"
          ],
          "name": "stderr"
        },
        {
          "output_type": "stream",
          "text": [
            "Epoch 1/400\n",
            "99/99 [==============================] - 0s 1ms/step - loss: 2.2951 - accuracy: 0.6364\n",
            "Epoch 2/400\n",
            "99/99 [==============================] - 0s 175us/step - loss: 1.3516 - accuracy: 0.6364\n",
            "Epoch 3/400\n",
            "99/99 [==============================] - 0s 148us/step - loss: 1.0515 - accuracy: 0.6364\n",
            "Epoch 4/400\n",
            "99/99 [==============================] - 0s 153us/step - loss: 0.8210 - accuracy: 0.6364\n",
            "Epoch 5/400\n",
            "99/99 [==============================] - 0s 187us/step - loss: 0.6518 - accuracy: 0.6566\n",
            "Epoch 6/400\n",
            "99/99 [==============================] - 0s 204us/step - loss: 0.5884 - accuracy: 0.6667\n",
            "Epoch 7/400\n",
            "99/99 [==============================] - 0s 171us/step - loss: 0.5968 - accuracy: 0.6768\n",
            "Epoch 8/400\n",
            "99/99 [==============================] - 0s 177us/step - loss: 0.5878 - accuracy: 0.6869\n",
            "Epoch 9/400\n",
            "99/99 [==============================] - 0s 180us/step - loss: 0.5833 - accuracy: 0.6970\n",
            "Epoch 10/400\n",
            "99/99 [==============================] - 0s 171us/step - loss: 0.5825 - accuracy: 0.6768\n",
            "Epoch 11/400\n",
            "99/99 [==============================] - 0s 196us/step - loss: 0.5820 - accuracy: 0.6768\n",
            "Epoch 12/400\n",
            "99/99 [==============================] - 0s 179us/step - loss: 0.5834 - accuracy: 0.7071\n",
            "Epoch 13/400\n",
            "99/99 [==============================] - 0s 174us/step - loss: 0.5820 - accuracy: 0.6768\n",
            "Epoch 14/400\n",
            "99/99 [==============================] - 0s 161us/step - loss: 0.5780 - accuracy: 0.6970\n",
            "Epoch 15/400\n",
            "99/99 [==============================] - 0s 170us/step - loss: 0.5765 - accuracy: 0.6970\n",
            "Epoch 16/400\n",
            "99/99 [==============================] - 0s 157us/step - loss: 0.5759 - accuracy: 0.6970\n",
            "Epoch 17/400\n",
            "99/99 [==============================] - 0s 158us/step - loss: 0.5761 - accuracy: 0.6869\n",
            "Epoch 18/400\n",
            "99/99 [==============================] - 0s 155us/step - loss: 0.5735 - accuracy: 0.6869\n",
            "Epoch 19/400\n",
            "99/99 [==============================] - 0s 166us/step - loss: 0.5711 - accuracy: 0.6869\n",
            "Epoch 20/400\n",
            "99/99 [==============================] - 0s 179us/step - loss: 0.5709 - accuracy: 0.7374\n",
            "Epoch 21/400\n",
            "99/99 [==============================] - 0s 182us/step - loss: 0.5702 - accuracy: 0.6970\n",
            "Epoch 22/400\n",
            "99/99 [==============================] - 0s 161us/step - loss: 0.5738 - accuracy: 0.7071\n",
            "Epoch 23/400\n",
            "99/99 [==============================] - 0s 202us/step - loss: 0.5683 - accuracy: 0.6869\n",
            "Epoch 24/400\n",
            "99/99 [==============================] - 0s 159us/step - loss: 0.5687 - accuracy: 0.7172\n",
            "Epoch 25/400\n",
            "99/99 [==============================] - 0s 276us/step - loss: 0.5627 - accuracy: 0.7172\n",
            "Epoch 26/400\n",
            "99/99 [==============================] - 0s 183us/step - loss: 0.5608 - accuracy: 0.7374\n",
            "Epoch 27/400\n",
            "99/99 [==============================] - 0s 175us/step - loss: 0.5624 - accuracy: 0.6970\n",
            "Epoch 28/400\n",
            "99/99 [==============================] - 0s 245us/step - loss: 0.5606 - accuracy: 0.7071\n",
            "Epoch 29/400\n",
            "99/99 [==============================] - 0s 203us/step - loss: 0.5571 - accuracy: 0.7071\n",
            "Epoch 30/400\n",
            "99/99 [==============================] - 0s 197us/step - loss: 0.5605 - accuracy: 0.7071\n",
            "Epoch 31/400\n",
            "99/99 [==============================] - 0s 203us/step - loss: 0.5529 - accuracy: 0.7273\n",
            "Epoch 32/400\n",
            "99/99 [==============================] - 0s 205us/step - loss: 0.5514 - accuracy: 0.7374\n",
            "Epoch 33/400\n",
            "99/99 [==============================] - 0s 220us/step - loss: 0.5511 - accuracy: 0.7273\n",
            "Epoch 34/400\n",
            "99/99 [==============================] - 0s 191us/step - loss: 0.5541 - accuracy: 0.6869\n",
            "Epoch 35/400\n",
            "99/99 [==============================] - 0s 184us/step - loss: 0.5482 - accuracy: 0.7071\n",
            "Epoch 36/400\n",
            "99/99 [==============================] - 0s 189us/step - loss: 0.5471 - accuracy: 0.7374\n",
            "Epoch 37/400\n",
            "99/99 [==============================] - 0s 178us/step - loss: 0.5478 - accuracy: 0.7273\n",
            "Epoch 38/400\n",
            "99/99 [==============================] - 0s 207us/step - loss: 0.5520 - accuracy: 0.7071\n",
            "Epoch 39/400\n",
            "99/99 [==============================] - 0s 190us/step - loss: 0.5590 - accuracy: 0.7172\n",
            "Epoch 40/400\n",
            "99/99 [==============================] - 0s 181us/step - loss: 0.5421 - accuracy: 0.7273\n",
            "Epoch 41/400\n",
            "99/99 [==============================] - 0s 182us/step - loss: 0.5427 - accuracy: 0.6768\n",
            "Epoch 42/400\n",
            "99/99 [==============================] - 0s 166us/step - loss: 0.5414 - accuracy: 0.6970\n",
            "Epoch 43/400\n",
            "99/99 [==============================] - 0s 210us/step - loss: 0.5380 - accuracy: 0.6970\n",
            "Epoch 44/400\n",
            "99/99 [==============================] - 0s 208us/step - loss: 0.5450 - accuracy: 0.7172\n",
            "Epoch 45/400\n",
            "99/99 [==============================] - 0s 188us/step - loss: 0.5378 - accuracy: 0.7273\n",
            "Epoch 46/400\n",
            "99/99 [==============================] - 0s 186us/step - loss: 0.5367 - accuracy: 0.7273\n",
            "Epoch 47/400\n",
            "99/99 [==============================] - 0s 177us/step - loss: 0.5337 - accuracy: 0.7172\n",
            "Epoch 48/400\n",
            "99/99 [==============================] - 0s 195us/step - loss: 0.5408 - accuracy: 0.6970\n",
            "Epoch 49/400\n",
            "99/99 [==============================] - 0s 180us/step - loss: 0.5362 - accuracy: 0.7576\n",
            "Epoch 50/400\n",
            "99/99 [==============================] - 0s 184us/step - loss: 0.5459 - accuracy: 0.7071\n",
            "Epoch 51/400\n",
            "99/99 [==============================] - 0s 168us/step - loss: 0.5285 - accuracy: 0.7374\n",
            "Epoch 52/400\n",
            "99/99 [==============================] - 0s 189us/step - loss: 0.5398 - accuracy: 0.7374\n",
            "Epoch 53/400\n",
            "99/99 [==============================] - 0s 179us/step - loss: 0.5399 - accuracy: 0.6869\n",
            "Epoch 54/400\n",
            "99/99 [==============================] - 0s 171us/step - loss: 0.5253 - accuracy: 0.7273\n",
            "Epoch 55/400\n",
            "99/99 [==============================] - 0s 161us/step - loss: 0.5397 - accuracy: 0.7172\n",
            "Epoch 56/400\n",
            "99/99 [==============================] - 0s 180us/step - loss: 0.5324 - accuracy: 0.7374\n",
            "Epoch 57/400\n",
            "99/99 [==============================] - 0s 168us/step - loss: 0.5285 - accuracy: 0.6869\n",
            "Epoch 58/400\n",
            "99/99 [==============================] - 0s 196us/step - loss: 0.5258 - accuracy: 0.7576\n",
            "Epoch 59/400\n",
            "99/99 [==============================] - 0s 183us/step - loss: 0.5227 - accuracy: 0.7475\n",
            "Epoch 60/400\n",
            "99/99 [==============================] - 0s 187us/step - loss: 0.5160 - accuracy: 0.7374\n",
            "Epoch 61/400\n",
            "99/99 [==============================] - 0s 168us/step - loss: 0.5171 - accuracy: 0.7374\n",
            "Epoch 62/400\n",
            "99/99 [==============================] - 0s 187us/step - loss: 0.5306 - accuracy: 0.7273\n",
            "Epoch 63/400\n",
            "99/99 [==============================] - 0s 221us/step - loss: 0.5280 - accuracy: 0.6970\n",
            "Epoch 64/400\n",
            "99/99 [==============================] - 0s 269us/step - loss: 0.5313 - accuracy: 0.7071\n",
            "Epoch 65/400\n",
            "99/99 [==============================] - 0s 202us/step - loss: 0.5180 - accuracy: 0.7475\n",
            "Epoch 66/400\n",
            "99/99 [==============================] - 0s 207us/step - loss: 0.5108 - accuracy: 0.7172\n",
            "Epoch 67/400\n",
            "99/99 [==============================] - 0s 202us/step - loss: 0.5082 - accuracy: 0.7374\n",
            "Epoch 68/400\n",
            "99/99 [==============================] - 0s 263us/step - loss: 0.5030 - accuracy: 0.7374\n",
            "Epoch 69/400\n",
            "99/99 [==============================] - 0s 180us/step - loss: 0.5031 - accuracy: 0.7172\n",
            "Epoch 70/400\n",
            "99/99 [==============================] - 0s 192us/step - loss: 0.5056 - accuracy: 0.7374\n",
            "Epoch 71/400\n",
            "99/99 [==============================] - 0s 188us/step - loss: 0.5160 - accuracy: 0.7071\n",
            "Epoch 72/400\n",
            "99/99 [==============================] - 0s 176us/step - loss: 0.5029 - accuracy: 0.7374\n",
            "Epoch 73/400\n",
            "99/99 [==============================] - 0s 235us/step - loss: 0.5008 - accuracy: 0.7374\n",
            "Epoch 74/400\n",
            "99/99 [==============================] - 0s 216us/step - loss: 0.5180 - accuracy: 0.7071\n",
            "Epoch 75/400\n",
            "99/99 [==============================] - 0s 191us/step - loss: 0.4956 - accuracy: 0.7273\n",
            "Epoch 76/400\n",
            "99/99 [==============================] - 0s 205us/step - loss: 0.5062 - accuracy: 0.7172\n",
            "Epoch 77/400\n",
            "99/99 [==============================] - 0s 218us/step - loss: 0.5018 - accuracy: 0.7172\n",
            "Epoch 78/400\n",
            "99/99 [==============================] - 0s 201us/step - loss: 0.4957 - accuracy: 0.7374\n",
            "Epoch 79/400\n",
            "99/99 [==============================] - 0s 177us/step - loss: 0.4873 - accuracy: 0.7374\n",
            "Epoch 80/400\n",
            "99/99 [==============================] - 0s 180us/step - loss: 0.4895 - accuracy: 0.7475\n",
            "Epoch 81/400\n",
            "99/99 [==============================] - 0s 183us/step - loss: 0.4847 - accuracy: 0.7475\n",
            "Epoch 82/400\n",
            "99/99 [==============================] - 0s 248us/step - loss: 0.5062 - accuracy: 0.6970\n",
            "Epoch 83/400\n",
            "99/99 [==============================] - 0s 198us/step - loss: 0.4933 - accuracy: 0.7374\n",
            "Epoch 84/400\n",
            "99/99 [==============================] - 0s 216us/step - loss: 0.4835 - accuracy: 0.7273\n",
            "Epoch 85/400\n",
            "99/99 [==============================] - 0s 255us/step - loss: 0.4919 - accuracy: 0.7273\n",
            "Epoch 86/400\n",
            "99/99 [==============================] - 0s 227us/step - loss: 0.4770 - accuracy: 0.7273\n",
            "Epoch 87/400\n",
            "99/99 [==============================] - 0s 218us/step - loss: 0.4855 - accuracy: 0.7475\n",
            "Epoch 88/400\n",
            "99/99 [==============================] - 0s 270us/step - loss: 0.5054 - accuracy: 0.7374\n",
            "Epoch 89/400\n",
            "99/99 [==============================] - 0s 206us/step - loss: 0.4819 - accuracy: 0.7172\n",
            "Epoch 90/400\n",
            "99/99 [==============================] - 0s 232us/step - loss: 0.4747 - accuracy: 0.7273\n",
            "Epoch 91/400\n",
            "99/99 [==============================] - 0s 324us/step - loss: 0.4833 - accuracy: 0.7576\n",
            "Epoch 92/400\n",
            "99/99 [==============================] - 0s 311us/step - loss: 0.4763 - accuracy: 0.7172\n",
            "Epoch 93/400\n",
            "99/99 [==============================] - 0s 297us/step - loss: 0.4687 - accuracy: 0.7374\n",
            "Epoch 94/400\n",
            "99/99 [==============================] - 0s 229us/step - loss: 0.4762 - accuracy: 0.7071\n",
            "Epoch 95/400\n",
            "99/99 [==============================] - 0s 197us/step - loss: 0.4729 - accuracy: 0.7172\n",
            "Epoch 96/400\n",
            "99/99 [==============================] - 0s 255us/step - loss: 0.4857 - accuracy: 0.7475\n",
            "Epoch 97/400\n",
            "99/99 [==============================] - 0s 237us/step - loss: 0.4850 - accuracy: 0.7374\n",
            "Epoch 98/400\n",
            "99/99 [==============================] - 0s 232us/step - loss: 0.4711 - accuracy: 0.7273\n",
            "Epoch 99/400\n",
            "99/99 [==============================] - 0s 242us/step - loss: 0.4702 - accuracy: 0.7374\n",
            "Epoch 100/400\n",
            "99/99 [==============================] - 0s 434us/step - loss: 0.4589 - accuracy: 0.7374\n",
            "Epoch 101/400\n",
            "99/99 [==============================] - 0s 240us/step - loss: 0.4612 - accuracy: 0.7576\n",
            "Epoch 102/400\n",
            "99/99 [==============================] - 0s 219us/step - loss: 0.4635 - accuracy: 0.7475\n",
            "Epoch 103/400\n",
            "99/99 [==============================] - 0s 186us/step - loss: 0.4633 - accuracy: 0.7374\n",
            "Epoch 104/400\n",
            "99/99 [==============================] - 0s 227us/step - loss: 0.4571 - accuracy: 0.7273\n",
            "Epoch 105/400\n",
            "99/99 [==============================] - 0s 211us/step - loss: 0.4533 - accuracy: 0.7475\n",
            "Epoch 106/400\n",
            "99/99 [==============================] - 0s 229us/step - loss: 0.4664 - accuracy: 0.7576\n",
            "Epoch 107/400\n",
            "99/99 [==============================] - 0s 215us/step - loss: 0.4560 - accuracy: 0.7273\n",
            "Epoch 108/400\n",
            "99/99 [==============================] - 0s 164us/step - loss: 0.4548 - accuracy: 0.7172\n",
            "Epoch 109/400\n",
            "99/99 [==============================] - 0s 182us/step - loss: 0.4563 - accuracy: 0.7172\n",
            "Epoch 110/400\n",
            "99/99 [==============================] - 0s 183us/step - loss: 0.4451 - accuracy: 0.7374\n",
            "Epoch 111/400\n",
            "99/99 [==============================] - 0s 196us/step - loss: 0.4618 - accuracy: 0.7273\n",
            "Epoch 112/400\n",
            "99/99 [==============================] - 0s 188us/step - loss: 0.4590 - accuracy: 0.7273\n",
            "Epoch 113/400\n",
            "99/99 [==============================] - 0s 213us/step - loss: 0.4522 - accuracy: 0.7273\n",
            "Epoch 114/400\n",
            "99/99 [==============================] - 0s 307us/step - loss: 0.6206 - accuracy: 0.7475\n",
            "Epoch 115/400\n",
            "99/99 [==============================] - 0s 182us/step - loss: 0.4922 - accuracy: 0.7273\n",
            "Epoch 116/400\n",
            "99/99 [==============================] - 0s 198us/step - loss: 0.4444 - accuracy: 0.7677\n",
            "Epoch 117/400\n",
            "99/99 [==============================] - 0s 210us/step - loss: 0.4434 - accuracy: 0.7475\n",
            "Epoch 118/400\n",
            "99/99 [==============================] - 0s 224us/step - loss: 0.4730 - accuracy: 0.7374\n",
            "Epoch 119/400\n",
            "99/99 [==============================] - 0s 196us/step - loss: 0.4335 - accuracy: 0.7374\n",
            "Epoch 120/400\n",
            "99/99 [==============================] - 0s 183us/step - loss: 0.4555 - accuracy: 0.7374\n",
            "Epoch 121/400\n",
            "99/99 [==============================] - 0s 180us/step - loss: 0.4529 - accuracy: 0.7475\n",
            "Epoch 122/400\n",
            "99/99 [==============================] - 0s 188us/step - loss: 0.4446 - accuracy: 0.7475\n",
            "Epoch 123/400\n",
            "99/99 [==============================] - 0s 210us/step - loss: 0.4447 - accuracy: 0.7273\n",
            "Epoch 124/400\n",
            "99/99 [==============================] - 0s 175us/step - loss: 0.4514 - accuracy: 0.7172\n",
            "Epoch 125/400\n",
            "99/99 [==============================] - 0s 197us/step - loss: 0.4314 - accuracy: 0.7677\n",
            "Epoch 126/400\n",
            "99/99 [==============================] - 0s 191us/step - loss: 0.4462 - accuracy: 0.7374\n",
            "Epoch 127/400\n",
            "99/99 [==============================] - 0s 264us/step - loss: 0.4384 - accuracy: 0.7576\n",
            "Epoch 128/400\n",
            "99/99 [==============================] - 0s 260us/step - loss: 0.4470 - accuracy: 0.7677\n",
            "Epoch 129/400\n",
            "99/99 [==============================] - 0s 226us/step - loss: 0.4816 - accuracy: 0.7273\n",
            "Epoch 130/400\n",
            "99/99 [==============================] - 0s 195us/step - loss: 0.4561 - accuracy: 0.7273\n",
            "Epoch 131/400\n",
            "99/99 [==============================] - 0s 179us/step - loss: 0.4264 - accuracy: 0.7475\n",
            "Epoch 132/400\n",
            "99/99 [==============================] - 0s 274us/step - loss: 0.4437 - accuracy: 0.7273\n",
            "Epoch 133/400\n",
            "99/99 [==============================] - 0s 229us/step - loss: 0.4404 - accuracy: 0.7374\n",
            "Epoch 134/400\n",
            "99/99 [==============================] - 0s 271us/step - loss: 0.4339 - accuracy: 0.7475\n",
            "Epoch 135/400\n",
            "99/99 [==============================] - 0s 216us/step - loss: 0.4148 - accuracy: 0.7778\n",
            "Epoch 136/400\n",
            "99/99 [==============================] - 0s 252us/step - loss: 0.4225 - accuracy: 0.7374\n",
            "Epoch 137/400\n",
            "99/99 [==============================] - 0s 240us/step - loss: 0.4134 - accuracy: 0.7778\n",
            "Epoch 138/400\n",
            "99/99 [==============================] - 0s 214us/step - loss: 0.4234 - accuracy: 0.7475\n",
            "Epoch 139/400\n",
            "99/99 [==============================] - 0s 247us/step - loss: 0.4237 - accuracy: 0.7677\n",
            "Epoch 140/400\n",
            "99/99 [==============================] - 0s 298us/step - loss: 0.5087 - accuracy: 0.7475\n",
            "Epoch 141/400\n",
            "99/99 [==============================] - 0s 398us/step - loss: 1.6646 - accuracy: 0.6667\n",
            "Epoch 142/400\n",
            "99/99 [==============================] - 0s 279us/step - loss: 0.5866 - accuracy: 0.6465\n",
            "Epoch 143/400\n",
            "99/99 [==============================] - 0s 231us/step - loss: 0.5019 - accuracy: 0.7273\n",
            "Epoch 144/400\n",
            "99/99 [==============================] - 0s 174us/step - loss: 0.5453 - accuracy: 0.7172\n",
            "Epoch 145/400\n",
            "99/99 [==============================] - 0s 183us/step - loss: 0.5111 - accuracy: 0.7374\n",
            "Epoch 146/400\n",
            "99/99 [==============================] - 0s 189us/step - loss: 0.5014 - accuracy: 0.7677\n",
            "Epoch 147/400\n",
            "99/99 [==============================] - 0s 178us/step - loss: 0.4929 - accuracy: 0.7778\n",
            "Epoch 148/400\n",
            "99/99 [==============================] - 0s 196us/step - loss: 0.4864 - accuracy: 0.7879\n",
            "Epoch 149/400\n",
            "99/99 [==============================] - 0s 238us/step - loss: 0.4800 - accuracy: 0.7879\n",
            "Epoch 150/400\n",
            "99/99 [==============================] - 0s 230us/step - loss: 0.4782 - accuracy: 0.7778\n",
            "Epoch 151/400\n",
            "99/99 [==============================] - 0s 210us/step - loss: 0.4738 - accuracy: 0.7576\n",
            "Epoch 152/400\n",
            "99/99 [==============================] - 0s 193us/step - loss: 0.4717 - accuracy: 0.7576\n",
            "Epoch 153/400\n",
            "99/99 [==============================] - 0s 225us/step - loss: 0.4719 - accuracy: 0.7576\n",
            "Epoch 154/400\n",
            "99/99 [==============================] - 0s 239us/step - loss: 0.4677 - accuracy: 0.7677\n",
            "Epoch 155/400\n",
            "99/99 [==============================] - 0s 195us/step - loss: 0.4673 - accuracy: 0.7677\n",
            "Epoch 156/400\n",
            "99/99 [==============================] - 0s 194us/step - loss: 0.4645 - accuracy: 0.7677\n",
            "Epoch 157/400\n",
            "99/99 [==============================] - 0s 193us/step - loss: 0.4621 - accuracy: 0.7576\n",
            "Epoch 158/400\n",
            "99/99 [==============================] - 0s 207us/step - loss: 0.4630 - accuracy: 0.7778\n",
            "Epoch 159/400\n",
            "99/99 [==============================] - 0s 268us/step - loss: 0.4642 - accuracy: 0.7778\n",
            "Epoch 160/400\n",
            "99/99 [==============================] - 0s 195us/step - loss: 0.4599 - accuracy: 0.7778\n",
            "Epoch 161/400\n",
            "99/99 [==============================] - 0s 176us/step - loss: 0.4597 - accuracy: 0.7576\n",
            "Epoch 162/400\n",
            "99/99 [==============================] - 0s 181us/step - loss: 0.4566 - accuracy: 0.7879\n",
            "Epoch 163/400\n",
            "99/99 [==============================] - 0s 215us/step - loss: 0.4588 - accuracy: 0.7879\n",
            "Epoch 164/400\n",
            "99/99 [==============================] - 0s 279us/step - loss: 0.4579 - accuracy: 0.7778\n",
            "Epoch 165/400\n",
            "99/99 [==============================] - 0s 254us/step - loss: 0.4515 - accuracy: 0.7677\n",
            "Epoch 166/400\n",
            "99/99 [==============================] - 0s 252us/step - loss: 0.4580 - accuracy: 0.7677\n",
            "Epoch 167/400\n",
            "99/99 [==============================] - 0s 244us/step - loss: 0.4504 - accuracy: 0.7576\n",
            "Epoch 168/400\n",
            "99/99 [==============================] - 0s 322us/step - loss: 0.4561 - accuracy: 0.7778\n",
            "Epoch 169/400\n",
            "99/99 [==============================] - 0s 190us/step - loss: 0.4454 - accuracy: 0.7778\n",
            "Epoch 170/400\n",
            "99/99 [==============================] - 0s 197us/step - loss: 0.4512 - accuracy: 0.7475\n",
            "Epoch 171/400\n",
            "99/99 [==============================] - 0s 227us/step - loss: 0.4580 - accuracy: 0.7475\n",
            "Epoch 172/400\n",
            "99/99 [==============================] - 0s 209us/step - loss: 0.4377 - accuracy: 0.7778\n",
            "Epoch 173/400\n",
            "99/99 [==============================] - 0s 199us/step - loss: 0.4521 - accuracy: 0.7475\n",
            "Epoch 174/400\n",
            "99/99 [==============================] - 0s 204us/step - loss: 0.4421 - accuracy: 0.7879\n",
            "Epoch 175/400\n",
            "99/99 [==============================] - 0s 210us/step - loss: 0.4820 - accuracy: 0.7677\n",
            "Epoch 176/400\n",
            "99/99 [==============================] - 0s 208us/step - loss: 0.4843 - accuracy: 0.7677\n",
            "Epoch 177/400\n",
            "99/99 [==============================] - 0s 243us/step - loss: 0.4595 - accuracy: 0.7576\n",
            "Epoch 178/400\n",
            "99/99 [==============================] - 0s 210us/step - loss: 0.4628 - accuracy: 0.7879\n",
            "Epoch 179/400\n",
            "99/99 [==============================] - 0s 170us/step - loss: 0.4410 - accuracy: 0.7778\n",
            "Epoch 180/400\n",
            "99/99 [==============================] - 0s 202us/step - loss: 0.4435 - accuracy: 0.7879\n",
            "Epoch 181/400\n",
            "99/99 [==============================] - 0s 232us/step - loss: 0.4405 - accuracy: 0.7980\n",
            "Epoch 182/400\n",
            "99/99 [==============================] - 0s 276us/step - loss: 0.4373 - accuracy: 0.7879\n",
            "Epoch 183/400\n",
            "99/99 [==============================] - 0s 220us/step - loss: 0.4373 - accuracy: 0.7879\n",
            "Epoch 184/400\n",
            "99/99 [==============================] - 0s 293us/step - loss: 0.4385 - accuracy: 0.7980\n",
            "Epoch 185/400\n",
            "99/99 [==============================] - 0s 184us/step - loss: 0.4384 - accuracy: 0.7677\n",
            "Epoch 186/400\n",
            "99/99 [==============================] - 0s 259us/step - loss: 0.4457 - accuracy: 0.7879\n",
            "Epoch 187/400\n",
            "99/99 [==============================] - 0s 201us/step - loss: 0.4315 - accuracy: 0.7778\n",
            "Epoch 188/400\n",
            "99/99 [==============================] - 0s 176us/step - loss: 0.4347 - accuracy: 0.7677\n",
            "Epoch 189/400\n",
            "99/99 [==============================] - 0s 202us/step - loss: 0.4413 - accuracy: 0.7677\n",
            "Epoch 190/400\n",
            "99/99 [==============================] - 0s 175us/step - loss: 0.4415 - accuracy: 0.7677\n",
            "Epoch 191/400\n",
            "99/99 [==============================] - 0s 184us/step - loss: 0.4336 - accuracy: 0.7677\n",
            "Epoch 192/400\n",
            "99/99 [==============================] - 0s 230us/step - loss: 0.4331 - accuracy: 0.7778\n",
            "Epoch 193/400\n",
            "99/99 [==============================] - 0s 270us/step - loss: 0.4373 - accuracy: 0.7778\n",
            "Epoch 194/400\n",
            "99/99 [==============================] - 0s 209us/step - loss: 0.4245 - accuracy: 0.7778\n",
            "Epoch 195/400\n",
            "99/99 [==============================] - 0s 221us/step - loss: 0.4329 - accuracy: 0.7576\n",
            "Epoch 196/400\n",
            "99/99 [==============================] - 0s 270us/step - loss: 0.4244 - accuracy: 0.7576\n",
            "Epoch 197/400\n",
            "99/99 [==============================] - 0s 251us/step - loss: 0.4275 - accuracy: 0.7879\n",
            "Epoch 198/400\n",
            "99/99 [==============================] - 0s 274us/step - loss: 0.4216 - accuracy: 0.7778\n",
            "Epoch 199/400\n",
            "99/99 [==============================] - 0s 329us/step - loss: 0.4183 - accuracy: 0.7879\n",
            "Epoch 200/400\n",
            "99/99 [==============================] - 0s 321us/step - loss: 0.4198 - accuracy: 0.7778\n",
            "Epoch 201/400\n",
            "99/99 [==============================] - 0s 254us/step - loss: 0.4213 - accuracy: 0.7677\n",
            "Epoch 202/400\n",
            "99/99 [==============================] - 0s 214us/step - loss: 0.4229 - accuracy: 0.7879\n",
            "Epoch 203/400\n",
            "99/99 [==============================] - 0s 201us/step - loss: 0.4274 - accuracy: 0.7677\n",
            "Epoch 204/400\n",
            "99/99 [==============================] - 0s 222us/step - loss: 0.4297 - accuracy: 0.7980\n",
            "Epoch 205/400\n",
            "99/99 [==============================] - 0s 242us/step - loss: 0.4473 - accuracy: 0.7576\n",
            "Epoch 206/400\n",
            "99/99 [==============================] - 0s 222us/step - loss: 0.4201 - accuracy: 0.7677\n",
            "Epoch 207/400\n",
            "99/99 [==============================] - 0s 261us/step - loss: 0.4281 - accuracy: 0.7677\n",
            "Epoch 208/400\n",
            "99/99 [==============================] - 0s 319us/step - loss: 0.4133 - accuracy: 0.7879\n",
            "Epoch 209/400\n",
            "99/99 [==============================] - 0s 267us/step - loss: 0.4130 - accuracy: 0.7879\n",
            "Epoch 210/400\n",
            "99/99 [==============================] - 0s 268us/step - loss: 0.4185 - accuracy: 0.8081\n",
            "Epoch 211/400\n",
            "99/99 [==============================] - 0s 239us/step - loss: 0.4129 - accuracy: 0.7879\n",
            "Epoch 212/400\n",
            "99/99 [==============================] - 0s 222us/step - loss: 0.4350 - accuracy: 0.7677\n",
            "Epoch 213/400\n",
            "99/99 [==============================] - 0s 277us/step - loss: 0.4158 - accuracy: 0.7980\n",
            "Epoch 214/400\n",
            "99/99 [==============================] - 0s 252us/step - loss: 0.4061 - accuracy: 0.8081\n",
            "Epoch 215/400\n",
            "99/99 [==============================] - 0s 411us/step - loss: 0.4075 - accuracy: 0.7879\n",
            "Epoch 216/400\n",
            "99/99 [==============================] - 0s 218us/step - loss: 0.4148 - accuracy: 0.7778\n",
            "Epoch 217/400\n",
            "99/99 [==============================] - 0s 223us/step - loss: 0.4166 - accuracy: 0.7980\n",
            "Epoch 218/400\n",
            "99/99 [==============================] - 0s 251us/step - loss: 0.4115 - accuracy: 0.7778\n",
            "Epoch 219/400\n",
            "99/99 [==============================] - 0s 198us/step - loss: 0.4094 - accuracy: 0.7677\n",
            "Epoch 220/400\n",
            "99/99 [==============================] - 0s 201us/step - loss: 0.4061 - accuracy: 0.7677\n",
            "Epoch 221/400\n",
            "99/99 [==============================] - 0s 190us/step - loss: 0.4171 - accuracy: 0.8081\n",
            "Epoch 222/400\n",
            "99/99 [==============================] - 0s 170us/step - loss: 0.4792 - accuracy: 0.7475\n",
            "Epoch 223/400\n",
            "99/99 [==============================] - 0s 175us/step - loss: 0.4255 - accuracy: 0.7374\n",
            "Epoch 224/400\n",
            "99/99 [==============================] - 0s 214us/step - loss: 0.4079 - accuracy: 0.7879\n",
            "Epoch 225/400\n",
            "99/99 [==============================] - 0s 211us/step - loss: 0.3957 - accuracy: 0.7980\n",
            "Epoch 226/400\n",
            "99/99 [==============================] - 0s 214us/step - loss: 0.3987 - accuracy: 0.8081\n",
            "Epoch 227/400\n",
            "99/99 [==============================] - 0s 182us/step - loss: 0.3888 - accuracy: 0.8081\n",
            "Epoch 228/400\n",
            "99/99 [==============================] - 0s 193us/step - loss: 0.3917 - accuracy: 0.8081\n",
            "Epoch 229/400\n",
            "99/99 [==============================] - 0s 248us/step - loss: 0.3907 - accuracy: 0.8081\n",
            "Epoch 230/400\n",
            "99/99 [==============================] - 0s 200us/step - loss: 0.3849 - accuracy: 0.7879\n",
            "Epoch 231/400\n",
            "99/99 [==============================] - 0s 199us/step - loss: 0.4004 - accuracy: 0.7980\n",
            "Epoch 232/400\n",
            "99/99 [==============================] - 0s 185us/step - loss: 0.4002 - accuracy: 0.8182\n",
            "Epoch 233/400\n",
            "99/99 [==============================] - 0s 207us/step - loss: 0.3979 - accuracy: 0.7980\n",
            "Epoch 234/400\n",
            "99/99 [==============================] - 0s 180us/step - loss: 0.3803 - accuracy: 0.7980\n",
            "Epoch 235/400\n",
            "99/99 [==============================] - 0s 247us/step - loss: 0.3942 - accuracy: 0.8081\n",
            "Epoch 236/400\n",
            "99/99 [==============================] - 0s 247us/step - loss: 0.4037 - accuracy: 0.7677\n",
            "Epoch 237/400\n",
            "99/99 [==============================] - 0s 196us/step - loss: 0.3975 - accuracy: 0.7980\n",
            "Epoch 238/400\n",
            "99/99 [==============================] - 0s 201us/step - loss: 0.3872 - accuracy: 0.8081\n",
            "Epoch 239/400\n",
            "99/99 [==============================] - 0s 253us/step - loss: 0.4031 - accuracy: 0.8081\n",
            "Epoch 240/400\n",
            "99/99 [==============================] - 0s 232us/step - loss: 0.4042 - accuracy: 0.7576\n",
            "Epoch 241/400\n",
            "99/99 [==============================] - 0s 264us/step - loss: 0.3891 - accuracy: 0.7980\n",
            "Epoch 242/400\n",
            "99/99 [==============================] - 0s 200us/step - loss: 0.3856 - accuracy: 0.8081\n",
            "Epoch 243/400\n",
            "99/99 [==============================] - 0s 182us/step - loss: 0.3886 - accuracy: 0.8081\n",
            "Epoch 244/400\n",
            "99/99 [==============================] - 0s 178us/step - loss: 0.3851 - accuracy: 0.7879\n",
            "Epoch 245/400\n",
            "99/99 [==============================] - 0s 198us/step - loss: 0.3717 - accuracy: 0.7980\n",
            "Epoch 246/400\n",
            "99/99 [==============================] - 0s 190us/step - loss: 0.3700 - accuracy: 0.7980\n",
            "Epoch 247/400\n",
            "99/99 [==============================] - 0s 199us/step - loss: 0.3717 - accuracy: 0.8182\n",
            "Epoch 248/400\n",
            "99/99 [==============================] - 0s 285us/step - loss: 0.3665 - accuracy: 0.8081\n",
            "Epoch 249/400\n",
            "99/99 [==============================] - 0s 203us/step - loss: 0.3769 - accuracy: 0.8182\n",
            "Epoch 250/400\n",
            "99/99 [==============================] - 0s 252us/step - loss: 0.3620 - accuracy: 0.7778\n",
            "Epoch 251/400\n",
            "99/99 [==============================] - 0s 205us/step - loss: 0.3686 - accuracy: 0.7778\n",
            "Epoch 252/400\n",
            "99/99 [==============================] - 0s 200us/step - loss: 0.3795 - accuracy: 0.7879\n",
            "Epoch 253/400\n",
            "99/99 [==============================] - 0s 280us/step - loss: 0.3752 - accuracy: 0.7980\n",
            "Epoch 254/400\n",
            "99/99 [==============================] - 0s 251us/step - loss: 0.3506 - accuracy: 0.7980\n",
            "Epoch 255/400\n",
            "99/99 [==============================] - 0s 228us/step - loss: 0.3831 - accuracy: 0.7879\n",
            "Epoch 256/400\n",
            "99/99 [==============================] - 0s 245us/step - loss: 0.3914 - accuracy: 0.7475\n",
            "Epoch 257/400\n",
            "99/99 [==============================] - 0s 196us/step - loss: 0.3948 - accuracy: 0.7879\n",
            "Epoch 258/400\n",
            "99/99 [==============================] - 0s 196us/step - loss: 0.3702 - accuracy: 0.7778\n",
            "Epoch 259/400\n",
            "99/99 [==============================] - 0s 185us/step - loss: 0.3626 - accuracy: 0.8182\n",
            "Epoch 260/400\n",
            "99/99 [==============================] - 0s 228us/step - loss: 0.3570 - accuracy: 0.7879\n",
            "Epoch 261/400\n",
            "99/99 [==============================] - 0s 218us/step - loss: 0.3563 - accuracy: 0.7778\n",
            "Epoch 262/400\n",
            "99/99 [==============================] - 0s 262us/step - loss: 0.3603 - accuracy: 0.7980\n",
            "Epoch 263/400\n",
            "99/99 [==============================] - 0s 263us/step - loss: 0.3518 - accuracy: 0.7980\n",
            "Epoch 264/400\n",
            "99/99 [==============================] - 0s 238us/step - loss: 0.3516 - accuracy: 0.7879\n",
            "Epoch 265/400\n",
            "99/99 [==============================] - 0s 217us/step - loss: 0.3542 - accuracy: 0.8081\n",
            "Epoch 266/400\n",
            "99/99 [==============================] - 0s 246us/step - loss: 0.3430 - accuracy: 0.7980\n",
            "Epoch 267/400\n",
            "99/99 [==============================] - 0s 190us/step - loss: 0.3486 - accuracy: 0.8081\n",
            "Epoch 268/400\n",
            "99/99 [==============================] - 0s 215us/step - loss: 0.3378 - accuracy: 0.8081\n",
            "Epoch 269/400\n",
            "99/99 [==============================] - 0s 227us/step - loss: 0.3448 - accuracy: 0.7879\n",
            "Epoch 270/400\n",
            "99/99 [==============================] - 0s 239us/step - loss: 0.3354 - accuracy: 0.7879\n",
            "Epoch 271/400\n",
            "99/99 [==============================] - 0s 230us/step - loss: 0.3519 - accuracy: 0.7778\n",
            "Epoch 272/400\n",
            "99/99 [==============================] - 0s 234us/step - loss: 0.3510 - accuracy: 0.8081\n",
            "Epoch 273/400\n",
            "99/99 [==============================] - 0s 291us/step - loss: 0.4020 - accuracy: 0.7576\n",
            "Epoch 274/400\n",
            "99/99 [==============================] - 0s 343us/step - loss: 0.4829 - accuracy: 0.7879\n",
            "Epoch 275/400\n",
            "99/99 [==============================] - 0s 372us/step - loss: 0.8613 - accuracy: 0.7677\n",
            "Epoch 276/400\n",
            "99/99 [==============================] - 0s 351us/step - loss: 0.8837 - accuracy: 0.7273\n",
            "Epoch 277/400\n",
            "99/99 [==============================] - 0s 493us/step - loss: 0.4659 - accuracy: 0.7273\n",
            "Epoch 278/400\n",
            "99/99 [==============================] - 0s 300us/step - loss: 0.4319 - accuracy: 0.7576\n",
            "Epoch 279/400\n",
            "99/99 [==============================] - 0s 318us/step - loss: 0.3999 - accuracy: 0.7879\n",
            "Epoch 280/400\n",
            "99/99 [==============================] - 0s 248us/step - loss: 0.3863 - accuracy: 0.7778\n",
            "Epoch 281/400\n",
            "99/99 [==============================] - 0s 293us/step - loss: 0.3759 - accuracy: 0.8081\n",
            "Epoch 282/400\n",
            "99/99 [==============================] - 0s 351us/step - loss: 0.3720 - accuracy: 0.7677\n",
            "Epoch 283/400\n",
            "99/99 [==============================] - 0s 246us/step - loss: 0.3561 - accuracy: 0.8081\n",
            "Epoch 284/400\n",
            "99/99 [==============================] - 0s 277us/step - loss: 0.3577 - accuracy: 0.8081\n",
            "Epoch 285/400\n",
            "99/99 [==============================] - 0s 310us/step - loss: 0.3572 - accuracy: 0.7677\n",
            "Epoch 286/400\n",
            "99/99 [==============================] - 0s 217us/step - loss: 0.3593 - accuracy: 0.7778\n",
            "Epoch 287/400\n",
            "99/99 [==============================] - 0s 264us/step - loss: 0.3579 - accuracy: 0.7778\n",
            "Epoch 288/400\n",
            "99/99 [==============================] - 0s 209us/step - loss: 0.3675 - accuracy: 0.7778\n",
            "Epoch 289/400\n",
            "99/99 [==============================] - 0s 477us/step - loss: 0.3371 - accuracy: 0.8182\n",
            "Epoch 290/400\n",
            "99/99 [==============================] - 0s 265us/step - loss: 0.3282 - accuracy: 0.8081\n",
            "Epoch 291/400\n",
            "99/99 [==============================] - 0s 299us/step - loss: 0.3366 - accuracy: 0.7879\n",
            "Epoch 292/400\n",
            "99/99 [==============================] - 0s 264us/step - loss: 0.3535 - accuracy: 0.8182\n",
            "Epoch 293/400\n",
            "99/99 [==============================] - 0s 205us/step - loss: 0.6483 - accuracy: 0.7980\n",
            "Epoch 294/400\n",
            "99/99 [==============================] - 0s 253us/step - loss: 0.3557 - accuracy: 0.8182\n",
            "Epoch 295/400\n",
            "99/99 [==============================] - 0s 227us/step - loss: 0.3668 - accuracy: 0.8182\n",
            "Epoch 296/400\n",
            "99/99 [==============================] - 0s 256us/step - loss: 0.3736 - accuracy: 0.7980\n",
            "Epoch 297/400\n",
            "99/99 [==============================] - 0s 208us/step - loss: 0.3493 - accuracy: 0.7980\n",
            "Epoch 298/400\n",
            "99/99 [==============================] - 0s 195us/step - loss: 0.3321 - accuracy: 0.8182\n",
            "Epoch 299/400\n",
            "99/99 [==============================] - 0s 201us/step - loss: 0.3318 - accuracy: 0.7980\n",
            "Epoch 300/400\n",
            "99/99 [==============================] - 0s 188us/step - loss: 0.3332 - accuracy: 0.7980\n",
            "Epoch 301/400\n",
            "99/99 [==============================] - 0s 198us/step - loss: 0.3234 - accuracy: 0.7980\n",
            "Epoch 302/400\n",
            "99/99 [==============================] - 0s 270us/step - loss: 0.3235 - accuracy: 0.8081\n",
            "Epoch 303/400\n",
            "99/99 [==============================] - 0s 219us/step - loss: 0.3191 - accuracy: 0.7980\n",
            "Epoch 304/400\n",
            "99/99 [==============================] - 0s 212us/step - loss: 0.3259 - accuracy: 0.7980\n",
            "Epoch 305/400\n",
            "99/99 [==============================] - 0s 187us/step - loss: 0.3333 - accuracy: 0.8081\n",
            "Epoch 306/400\n",
            "99/99 [==============================] - 0s 170us/step - loss: 0.3148 - accuracy: 0.8182\n",
            "Epoch 307/400\n",
            "99/99 [==============================] - 0s 163us/step - loss: 0.3239 - accuracy: 0.8081\n",
            "Epoch 308/400\n",
            "99/99 [==============================] - 0s 226us/step - loss: 0.3238 - accuracy: 0.8081\n",
            "Epoch 309/400\n",
            "99/99 [==============================] - 0s 219us/step - loss: 0.3082 - accuracy: 0.7980\n",
            "Epoch 310/400\n",
            "99/99 [==============================] - 0s 365us/step - loss: 0.3371 - accuracy: 0.7778\n",
            "Epoch 311/400\n",
            "99/99 [==============================] - 0s 270us/step - loss: 0.3470 - accuracy: 0.8081\n",
            "Epoch 312/400\n",
            "99/99 [==============================] - 0s 297us/step - loss: 0.3236 - accuracy: 0.7980\n",
            "Epoch 313/400\n",
            "99/99 [==============================] - 0s 223us/step - loss: 0.3285 - accuracy: 0.8081\n",
            "Epoch 314/400\n",
            "99/99 [==============================] - 0s 276us/step - loss: 0.3126 - accuracy: 0.7980\n",
            "Epoch 315/400\n",
            "99/99 [==============================] - 0s 251us/step - loss: 0.3105 - accuracy: 0.8182\n",
            "Epoch 316/400\n",
            "99/99 [==============================] - 0s 183us/step - loss: 0.3065 - accuracy: 0.8081\n",
            "Epoch 317/400\n",
            "99/99 [==============================] - 0s 223us/step - loss: 0.3049 - accuracy: 0.7879\n",
            "Epoch 318/400\n",
            "99/99 [==============================] - 0s 189us/step - loss: 0.3091 - accuracy: 0.7778\n",
            "Epoch 319/400\n",
            "99/99 [==============================] - 0s 211us/step - loss: 0.2974 - accuracy: 0.7879\n",
            "Epoch 320/400\n",
            "99/99 [==============================] - 0s 256us/step - loss: 0.3092 - accuracy: 0.7879\n",
            "Epoch 321/400\n",
            "99/99 [==============================] - 0s 162us/step - loss: 0.3135 - accuracy: 0.7677\n",
            "Epoch 322/400\n",
            "99/99 [==============================] - 0s 168us/step - loss: 0.3156 - accuracy: 0.7677\n",
            "Epoch 323/400\n",
            "99/99 [==============================] - 0s 153us/step - loss: 0.3068 - accuracy: 0.7879\n",
            "Epoch 324/400\n",
            "99/99 [==============================] - 0s 168us/step - loss: 0.3131 - accuracy: 0.7879\n",
            "Epoch 325/400\n",
            "99/99 [==============================] - 0s 176us/step - loss: 0.3600 - accuracy: 0.7879\n",
            "Epoch 326/400\n",
            "99/99 [==============================] - 0s 240us/step - loss: 0.3079 - accuracy: 0.7980\n",
            "Epoch 327/400\n",
            "99/99 [==============================] - 0s 177us/step - loss: 0.3071 - accuracy: 0.7879\n",
            "Epoch 328/400\n",
            "99/99 [==============================] - 0s 208us/step - loss: 0.3160 - accuracy: 0.8081\n",
            "Epoch 329/400\n",
            "99/99 [==============================] - 0s 192us/step - loss: 0.3345 - accuracy: 0.7778\n",
            "Epoch 330/400\n",
            "99/99 [==============================] - 0s 163us/step - loss: 0.3195 - accuracy: 0.8081\n",
            "Epoch 331/400\n",
            "99/99 [==============================] - 0s 175us/step - loss: 0.3691 - accuracy: 0.7879\n",
            "Epoch 332/400\n",
            "99/99 [==============================] - 0s 194us/step - loss: 0.3385 - accuracy: 0.7778\n",
            "Epoch 333/400\n",
            "99/99 [==============================] - 0s 165us/step - loss: 0.3316 - accuracy: 0.7879\n",
            "Epoch 334/400\n",
            "99/99 [==============================] - 0s 176us/step - loss: 0.3278 - accuracy: 0.7576\n",
            "Epoch 335/400\n",
            "99/99 [==============================] - 0s 199us/step - loss: 0.3112 - accuracy: 0.7980\n",
            "Epoch 336/400\n",
            "99/99 [==============================] - 0s 207us/step - loss: 0.2929 - accuracy: 0.7980\n",
            "Epoch 337/400\n",
            "99/99 [==============================] - 0s 219us/step - loss: 0.3044 - accuracy: 0.7879\n",
            "Epoch 338/400\n",
            "99/99 [==============================] - 0s 239us/step - loss: 0.3079 - accuracy: 0.7879\n",
            "Epoch 339/400\n",
            "99/99 [==============================] - 0s 239us/step - loss: 0.2971 - accuracy: 0.8182\n",
            "Epoch 340/400\n",
            "99/99 [==============================] - 0s 170us/step - loss: 0.3052 - accuracy: 0.7879\n",
            "Epoch 341/400\n",
            "99/99 [==============================] - 0s 161us/step - loss: 0.2940 - accuracy: 0.8081\n",
            "Epoch 342/400\n",
            "99/99 [==============================] - 0s 159us/step - loss: 0.2978 - accuracy: 0.8081\n",
            "Epoch 343/400\n",
            "99/99 [==============================] - 0s 156us/step - loss: 0.2874 - accuracy: 0.8081\n",
            "Epoch 344/400\n",
            "99/99 [==============================] - 0s 162us/step - loss: 0.2774 - accuracy: 0.8081\n",
            "Epoch 345/400\n",
            "99/99 [==============================] - 0s 150us/step - loss: 0.2800 - accuracy: 0.8182\n",
            "Epoch 346/400\n",
            "99/99 [==============================] - 0s 159us/step - loss: 0.2852 - accuracy: 0.7980\n",
            "Epoch 347/400\n",
            "99/99 [==============================] - 0s 181us/step - loss: 0.2832 - accuracy: 0.8182\n",
            "Epoch 348/400\n",
            "99/99 [==============================] - 0s 164us/step - loss: 0.2848 - accuracy: 0.7980\n",
            "Epoch 349/400\n",
            "99/99 [==============================] - 0s 158us/step - loss: 0.3198 - accuracy: 0.7980\n",
            "Epoch 350/400\n",
            "99/99 [==============================] - 0s 188us/step - loss: 0.2936 - accuracy: 0.7879\n",
            "Epoch 351/400\n",
            "99/99 [==============================] - 0s 211us/step - loss: 0.2786 - accuracy: 0.8081\n",
            "Epoch 352/400\n",
            "99/99 [==============================] - 0s 177us/step - loss: 0.3085 - accuracy: 0.7980\n",
            "Epoch 353/400\n",
            "99/99 [==============================] - 0s 167us/step - loss: 0.2873 - accuracy: 0.8283\n",
            "Epoch 354/400\n",
            "99/99 [==============================] - 0s 160us/step - loss: 0.2842 - accuracy: 0.7879\n",
            "Epoch 355/400\n",
            "99/99 [==============================] - 0s 169us/step - loss: 0.2845 - accuracy: 0.8081\n",
            "Epoch 356/400\n",
            "99/99 [==============================] - 0s 173us/step - loss: 0.2670 - accuracy: 0.8283\n",
            "Epoch 357/400\n",
            "99/99 [==============================] - 0s 193us/step - loss: 0.2616 - accuracy: 0.7980\n",
            "Epoch 358/400\n",
            "99/99 [==============================] - 0s 234us/step - loss: 0.2585 - accuracy: 0.8182\n",
            "Epoch 359/400\n",
            "99/99 [==============================] - 0s 264us/step - loss: 0.2666 - accuracy: 0.8081\n",
            "Epoch 360/400\n",
            "99/99 [==============================] - 0s 198us/step - loss: 0.2627 - accuracy: 0.8081\n",
            "Epoch 361/400\n",
            "99/99 [==============================] - 0s 264us/step - loss: 0.2623 - accuracy: 0.8081\n",
            "Epoch 362/400\n",
            "99/99 [==============================] - 0s 231us/step - loss: 0.2729 - accuracy: 0.8081\n",
            "Epoch 363/400\n",
            "99/99 [==============================] - 0s 199us/step - loss: 0.2650 - accuracy: 0.8182\n",
            "Epoch 364/400\n",
            "99/99 [==============================] - 0s 159us/step - loss: 0.2804 - accuracy: 0.7980\n",
            "Epoch 365/400\n",
            "99/99 [==============================] - 0s 162us/step - loss: 0.2740 - accuracy: 0.7879\n",
            "Epoch 366/400\n",
            "99/99 [==============================] - 0s 177us/step - loss: 0.2612 - accuracy: 0.8283\n",
            "Epoch 367/400\n",
            "99/99 [==============================] - 0s 164us/step - loss: 0.2601 - accuracy: 0.8182\n",
            "Epoch 368/400\n",
            "99/99 [==============================] - 0s 265us/step - loss: 0.2625 - accuracy: 0.8081\n",
            "Epoch 369/400\n",
            "99/99 [==============================] - 0s 187us/step - loss: 0.2794 - accuracy: 0.7980\n",
            "Epoch 370/400\n",
            "99/99 [==============================] - 0s 181us/step - loss: 0.2576 - accuracy: 0.8081\n",
            "Epoch 371/400\n",
            "99/99 [==============================] - 0s 230us/step - loss: 0.2541 - accuracy: 0.8283\n",
            "Epoch 372/400\n",
            "99/99 [==============================] - 0s 180us/step - loss: 0.2622 - accuracy: 0.8283\n",
            "Epoch 373/400\n",
            "99/99 [==============================] - 0s 182us/step - loss: 0.2692 - accuracy: 0.8283\n",
            "Epoch 374/400\n",
            "99/99 [==============================] - 0s 185us/step - loss: 0.2895 - accuracy: 0.8081\n",
            "Epoch 375/400\n",
            "99/99 [==============================] - 0s 283us/step - loss: 0.2654 - accuracy: 0.8081\n",
            "Epoch 376/400\n",
            "99/99 [==============================] - 0s 303us/step - loss: 0.2609 - accuracy: 0.8283\n",
            "Epoch 377/400\n",
            "99/99 [==============================] - 0s 269us/step - loss: 0.2754 - accuracy: 0.7778\n",
            "Epoch 378/400\n",
            "99/99 [==============================] - 0s 245us/step - loss: 0.2587 - accuracy: 0.8182\n",
            "Epoch 379/400\n",
            "99/99 [==============================] - 0s 225us/step - loss: 0.2474 - accuracy: 0.8081\n",
            "Epoch 380/400\n",
            "99/99 [==============================] - 0s 238us/step - loss: 0.2678 - accuracy: 0.8182\n",
            "Epoch 381/400\n",
            "99/99 [==============================] - 0s 213us/step - loss: 0.2502 - accuracy: 0.8182\n",
            "Epoch 382/400\n",
            "99/99 [==============================] - 0s 200us/step - loss: 0.2589 - accuracy: 0.8283\n",
            "Epoch 383/400\n",
            "99/99 [==============================] - 0s 197us/step - loss: 0.2626 - accuracy: 0.8182\n",
            "Epoch 384/400\n",
            "99/99 [==============================] - 0s 217us/step - loss: 0.2850 - accuracy: 0.7980\n",
            "Epoch 385/400\n",
            "99/99 [==============================] - 0s 214us/step - loss: 0.2708 - accuracy: 0.8081\n",
            "Epoch 386/400\n",
            "99/99 [==============================] - 0s 175us/step - loss: 0.2688 - accuracy: 0.8081\n",
            "Epoch 387/400\n",
            "99/99 [==============================] - 0s 151us/step - loss: 0.2529 - accuracy: 0.7980\n",
            "Epoch 388/400\n",
            "99/99 [==============================] - 0s 177us/step - loss: 0.2441 - accuracy: 0.8384\n",
            "Epoch 389/400\n",
            "99/99 [==============================] - 0s 219us/step - loss: 0.2413 - accuracy: 0.8283\n",
            "Epoch 390/400\n",
            "99/99 [==============================] - 0s 194us/step - loss: 0.2431 - accuracy: 0.8182\n",
            "Epoch 391/400\n",
            "99/99 [==============================] - 0s 172us/step - loss: 0.2385 - accuracy: 0.8081\n",
            "Epoch 392/400\n",
            "99/99 [==============================] - 0s 199us/step - loss: 0.2431 - accuracy: 0.8283\n",
            "Epoch 393/400\n",
            "99/99 [==============================] - 0s 171us/step - loss: 0.2400 - accuracy: 0.8283\n",
            "Epoch 394/400\n",
            "99/99 [==============================] - 0s 202us/step - loss: 0.2261 - accuracy: 0.8182\n",
            "Epoch 395/400\n",
            "99/99 [==============================] - 0s 247us/step - loss: 0.2596 - accuracy: 0.8384\n",
            "Epoch 396/400\n",
            "99/99 [==============================] - 0s 179us/step - loss: 0.2611 - accuracy: 0.8182\n",
            "Epoch 397/400\n",
            "99/99 [==============================] - 0s 209us/step - loss: 0.2409 - accuracy: 0.8283\n",
            "Epoch 398/400\n",
            "99/99 [==============================] - 0s 178us/step - loss: 0.2416 - accuracy: 0.8586\n",
            "Epoch 399/400\n",
            "99/99 [==============================] - 0s 152us/step - loss: 0.2284 - accuracy: 0.8182\n",
            "Epoch 400/400\n",
            "99/99 [==============================] - 0s 186us/step - loss: 0.2249 - accuracy: 0.8485\n"
          ],
          "name": "stdout"
        },
        {
          "output_type": "execute_result",
          "data": {
            "text/plain": [
              "<keras.callbacks.callbacks.History at 0x7f4ae4a0a4e0>"
            ]
          },
          "metadata": {
            "tags": []
          },
          "execution_count": 29
        }
      ]
    },
    {
      "cell_type": "markdown",
      "metadata": {
        "id": "KcuODyDHpc2U",
        "colab_type": "text"
      },
      "source": [
        "\n",
        "SCORE - MODEL EVALUATION\n"
      ]
    },
    {
      "cell_type": "code",
      "metadata": {
        "id": "26wUfdG1pg4Y",
        "colab_type": "code",
        "colab": {
          "base_uri": "https://localhost:8080/",
          "height": 54
        },
        "outputId": "534164d4-713c-461d-9432-3634b9b566fc"
      },
      "source": [
        "score = model.evaluate(X,Y)\n",
        "print(\"%s:%.2f%%\" %(model.metrics_names[1],score[1]*100))\n"
      ],
      "execution_count": 30,
      "outputs": [
        {
          "output_type": "stream",
          "text": [
            "99/99 [==============================] - 0s 270us/step\n",
            "accuracy:82.83%\n"
          ],
          "name": "stdout"
        }
      ]
    },
    {
      "cell_type": "code",
      "metadata": {
        "id": "Wrhrimz4t0t8",
        "colab_type": "code",
        "colab": {
          "base_uri": "https://localhost:8080/",
          "height": 201
        },
        "outputId": "82df5edf-947e-4e03-a456-78b50c3ffd3b"
      },
      "source": [
        "# make class predictions with the model\n",
        "predictions = model.predict_classes(X)\n",
        "# summarize the first 5 cases\n",
        "for i in range(10):\n",
        "\tprint('%s => %d (expected %d)' % (X[i].tolist(), predictions[i], Y[i]))"
      ],
      "execution_count": 36,
      "outputs": [
        {
          "output_type": "stream",
          "text": [
            "[6.0, 148.0, 72.0, 35.0, 0.0, 33.6, 0.627, 50.0] => 1 (expected 1)\n",
            "[1.0, 85.0, 66.0, 29.0, 0.0, 26.6, 0.351, 31.0] => 0 (expected 0)\n",
            "[8.0, 183.0, 64.0, 0.0, 0.0, 23.3, 0.672, 32.0] => 0 (expected 1)\n",
            "[1.0, 89.0, 66.0, 23.0, 94.0, 28.1, 0.167, 21.0] => 0 (expected 0)\n",
            "[0.0, 137.0, 40.0, 35.0, 168.0, 43.1, 2.288, 33.0] => 1 (expected 1)\n",
            "[5.0, 116.0, 74.0, 0.0, 0.0, 25.6, 0.201, 30.0] => 0 (expected 0)\n",
            "[3.0, 78.0, 50.0, 32.0, 88.0, 31.0, 0.248, 26.0] => 0 (expected 1)\n",
            "[10.0, 115.0, 0.0, 0.0, 0.0, 35.3, 0.134, 29.0] => 0 (expected 0)\n",
            "[2.0, 197.0, 70.0, 45.0, 543.0, 30.5, 0.158, 53.0] => 1 (expected 1)\n",
            "[8.0, 125.0, 96.0, 0.0, 0.0, 0.0, 0.232, 54.0] => 1 (expected 1)\n"
          ],
          "name": "stdout"
        }
      ]
    }
  ]
}